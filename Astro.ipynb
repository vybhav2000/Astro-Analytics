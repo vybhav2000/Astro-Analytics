{
 "cells": [
  {
   "cell_type": "code",
   "execution_count": 1,
   "source": [
    "import numpy as np\r\n",
    "import pandas as pd"
   ],
   "outputs": [],
   "metadata": {
    "colab": {},
    "colab_type": "code",
    "id": "5x6jw0u3Y2TK"
   }
  },
  {
   "cell_type": "code",
   "execution_count": null,
   "source": [
    "train=pd.read_csv('train_techsoc.csv')\r\n",
    "test=pd.read_csv('test_techsoc.csv')"
   ],
   "outputs": [],
   "metadata": {
    "colab": {},
    "colab_type": "code",
    "id": "0-s7jHb-fSgh"
   }
  },
  {
   "cell_type": "code",
   "execution_count": null,
   "source": [
    "from sklearn.preprocessing import StandardScaler"
   ],
   "outputs": [],
   "metadata": {
    "colab": {},
    "colab_type": "code",
    "id": "Nk8VfQgOlT11"
   }
  },
  {
   "cell_type": "code",
   "execution_count": null,
   "source": [
    "from sklearn.linear_model import LinearRegression\r\n",
    "from sklearn.preprocessing import PolynomialFeatures"
   ],
   "outputs": [],
   "metadata": {
    "colab": {},
    "colab_type": "code",
    "id": "TbqooJ7cjQed"
   }
  },
  {
   "cell_type": "code",
   "execution_count": null,
   "source": [
    "xpred=pd.DataFrame()\r\n",
    "for i in test['sat_id'].unique():\r\n",
    "  X_train=train[train['sat_id']==i][['x_sim','y_sim','z_sim']]\r\n",
    "  X_test=test[test['sat_id']==i][['x_sim','y_sim','z_sim']]\r\n",
    "  targ=train[train['sat_id']==i][['x','y','z']]\r\n",
    "  scaler=StandardScaler()\r\n",
    "  X_train1=scaler.fit_transform(X_train)\r\n",
    "  X_test1=scaler.transform(X_test)\r\n",
    "  regressor=LinearRegression()\r\n",
    "  poly=PolynomialFeatures(degree=2)\r\n",
    "  train_poly=poly.fit_transform(X_train1)\r\n",
    "  test_poly=poly.transform(X_test1)\r\n",
    "  regressor.fit(train_poly,targ)\r\n",
    "  test_pred=regressor.predict(test_poly)\r\n",
    "  pred1=pd.DataFrame(test_pred,columns=targ.columns)\r\n",
    "  xpred=xpred.append(pred1)\r\n",
    "  xpred= xpred.reset_index(drop=True)"
   ],
   "outputs": [],
   "metadata": {
    "colab": {},
    "colab_type": "code",
    "id": "Rjoqscx_c-Ek"
   }
  },
  {
   "cell_type": "code",
   "execution_count": null,
   "source": [
    "ypred=pd.DataFrame()\r\n",
    "for i in test['sat_id'].unique():\r\n",
    "  X_train=train[train['sat_id']==i][['Vx_sim','Vy_sim','Vz_sim']]\r\n",
    "  X_test=test[test['sat_id']==i][['Vx_sim','Vy_sim','Vz_sim']]\r\n",
    "  targ=train[train['sat_id']==i][['Vx','Vy','Vz']]\r\n",
    "  scaler=StandardScaler()\r\n",
    "  X_train1=scaler.fit_transform(X_train)\r\n",
    "  X_test1=scaler.transform(X_test)\r\n",
    "  regressor=LinearRegression()\r\n",
    "  poly=PolynomialFeatures(degree=2)\r\n",
    "  train_poly=poly.fit_transform(X_train1)\r\n",
    "  test_poly=poly.transform(X_test1)\r\n",
    "  regressor.fit(train_poly,targ)\r\n",
    "  test_pred=regressor.predict(test_poly)\r\n",
    "  pred2=pd.DataFrame(test_pred,columns=targ.columns)\r\n",
    "  ypred=ypred.append(pred2)\r\n",
    "  ypred = ypred.reset_index(drop=True)"
   ],
   "outputs": [],
   "metadata": {
    "colab": {},
    "colab_type": "code",
    "id": "bMB58kz4q1SQ"
   }
  },
  {
   "cell_type": "code",
   "execution_count": null,
   "source": [
    "fin=pd.concat((test['id'],xpred,ypred),axis=1)"
   ],
   "outputs": [],
   "metadata": {
    "colab": {},
    "colab_type": "code",
    "id": "YnuFvIqfGH0N"
   }
  },
  {
   "cell_type": "code",
   "execution_count": null,
   "source": [
    "fin.shape"
   ],
   "outputs": [
    {
     "output_type": "execute_result",
     "data": {
      "text/plain": [
       "(162612, 7)"
      ]
     },
     "metadata": {
      "tags": []
     },
     "execution_count": 11
    }
   ],
   "metadata": {
    "colab": {
     "base_uri": "https://localhost:8080/",
     "height": 34
    },
    "colab_type": "code",
    "id": "RRP7gPFij2Wn",
    "outputId": "f1fa1063-8a90-4c60-dfc2-852c0cfa4026"
   }
  },
  {
   "cell_type": "code",
   "execution_count": null,
   "source": [
    "fin.head()"
   ],
   "outputs": [
    {
     "output_type": "execute_result",
     "data": {
      "text/plain": [
       "     id             x             y             z        Vx        Vy        Vz\n",
       "0  2839 -71164.024895  18483.595746 -19235.483300 -2.071539 -4.701967  2.657871\n",
       "1  2840 -74045.410224  12461.295359 -15812.686245 -0.965941 -4.843677  2.868349\n",
       "2  2841 -75334.870610   6322.589599 -12148.717218  0.128252 -4.862659  3.001984\n",
       "3  2842 -74913.282455    209.615529  -8323.840319  1.208888 -4.772501  3.066939\n",
       "4  2843 -72643.347988  -5747.204162  -4409.055487  2.272595 -4.584665  3.069961"
      ],
      "text/html": [
       "<div>\n",
       "<style scoped>\n",
       "    .dataframe tbody tr th:only-of-type {\n",
       "        vertical-align: middle;\n",
       "    }\n",
       "\n",
       "    .dataframe tbody tr th {\n",
       "        vertical-align: top;\n",
       "    }\n",
       "\n",
       "    .dataframe thead th {\n",
       "        text-align: right;\n",
       "    }\n",
       "</style>\n",
       "<table border=\"1\" class=\"dataframe\">\n",
       "  <thead>\n",
       "    <tr style=\"text-align: right;\">\n",
       "      <th></th>\n",
       "      <th>id</th>\n",
       "      <th>x</th>\n",
       "      <th>y</th>\n",
       "      <th>z</th>\n",
       "      <th>Vx</th>\n",
       "      <th>Vy</th>\n",
       "      <th>Vz</th>\n",
       "    </tr>\n",
       "  </thead>\n",
       "  <tbody>\n",
       "    <tr>\n",
       "      <th>0</th>\n",
       "      <td>2839</td>\n",
       "      <td>-71164.024895</td>\n",
       "      <td>18483.595746</td>\n",
       "      <td>-19235.483300</td>\n",
       "      <td>-2.071539</td>\n",
       "      <td>-4.701967</td>\n",
       "      <td>2.657871</td>\n",
       "    </tr>\n",
       "    <tr>\n",
       "      <th>1</th>\n",
       "      <td>2840</td>\n",
       "      <td>-74045.410224</td>\n",
       "      <td>12461.295359</td>\n",
       "      <td>-15812.686245</td>\n",
       "      <td>-0.965941</td>\n",
       "      <td>-4.843677</td>\n",
       "      <td>2.868349</td>\n",
       "    </tr>\n",
       "    <tr>\n",
       "      <th>2</th>\n",
       "      <td>2841</td>\n",
       "      <td>-75334.870610</td>\n",
       "      <td>6322.589599</td>\n",
       "      <td>-12148.717218</td>\n",
       "      <td>0.128252</td>\n",
       "      <td>-4.862659</td>\n",
       "      <td>3.001984</td>\n",
       "    </tr>\n",
       "    <tr>\n",
       "      <th>3</th>\n",
       "      <td>2842</td>\n",
       "      <td>-74913.282455</td>\n",
       "      <td>209.615529</td>\n",
       "      <td>-8323.840319</td>\n",
       "      <td>1.208888</td>\n",
       "      <td>-4.772501</td>\n",
       "      <td>3.066939</td>\n",
       "    </tr>\n",
       "    <tr>\n",
       "      <th>4</th>\n",
       "      <td>2843</td>\n",
       "      <td>-72643.347988</td>\n",
       "      <td>-5747.204162</td>\n",
       "      <td>-4409.055487</td>\n",
       "      <td>2.272595</td>\n",
       "      <td>-4.584665</td>\n",
       "      <td>3.069961</td>\n",
       "    </tr>\n",
       "  </tbody>\n",
       "</table>\n",
       "</div>"
      ]
     },
     "metadata": {
      "tags": []
     },
     "execution_count": 12
    }
   ],
   "metadata": {
    "colab": {
     "base_uri": "https://localhost:8080/",
     "height": 195
    },
    "colab_type": "code",
    "id": "0jb2ZwzooA90",
    "outputId": "9f602ccc-ec8f-430b-c23d-41b655a55392"
   }
  },
  {
   "cell_type": "code",
   "execution_count": null,
   "source": [
    "fin.to_csv('My_predictionsPolynom8.csv',index=False)"
   ],
   "outputs": [],
   "metadata": {
    "colab": {},
    "colab_type": "code",
    "id": "qCSkGCAn3CRD"
   }
  },
  {
   "cell_type": "code",
   "execution_count": null,
   "source": [],
   "outputs": [],
   "metadata": {
    "colab": {},
    "colab_type": "code",
    "id": "-DWPbJw8rfyb"
   }
  }
 ],
 "metadata": {
  "accelerator": "GPU",
  "colab": {
   "collapsed_sections": [],
   "name": "Untitled3.ipynb",
   "provenance": []
  },
  "kernelspec": {
   "display_name": "Python 3",
   "language": "python",
   "name": "python3"
  },
  "language_info": {
   "codemirror_mode": {
    "name": "ipython",
    "version": 3
   },
   "file_extension": ".py",
   "mimetype": "text/x-python",
   "name": "python",
   "nbconvert_exporter": "python",
   "pygments_lexer": "ipython3",
   "version": "3.7.3"
  }
 },
 "nbformat": 4,
 "nbformat_minor": 1
}